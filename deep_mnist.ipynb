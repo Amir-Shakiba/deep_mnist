{
  "nbformat": 4,
  "nbformat_minor": 0,
  "metadata": {
    "colab": {
      "name": "deep_mnist.ipynb",
      "version": "0.3.2",
      "provenance": [],
      "collapsed_sections": [],
      "include_colab_link": true
    },
    "kernelspec": {
      "name": "python3",
      "display_name": "Python 3"
    },
    "accelerator": "GPU"
  },
  "cells": [
    {
      "cell_type": "markdown",
      "metadata": {
        "id": "view-in-github",
        "colab_type": "text"
      },
      "source": [
        "<a href=\"https://colab.research.google.com/github/Amir-Shakiba/deep_mnist/blob/master/deep_mnist.ipynb\" target=\"_parent\"><img src=\"https://colab.research.google.com/assets/colab-badge.svg\" alt=\"Open In Colab\"/></a>"
      ]
    },
    {
      "metadata": {
        "id": "6BipfoAzfl78",
        "colab_type": "text"
      },
      "cell_type": "markdown",
      "source": [
        "loading mnist\n"
      ]
    },
    {
      "metadata": {
        "id": "8T-8wuGye0SQ",
        "colab_type": "code",
        "colab": {}
      },
      "cell_type": "code",
      "source": [
        "from keras.datasets import mnist\n",
        "(x_train, y_train), (x_test, y_test) = mnist.load_data()"
      ],
      "execution_count": 0,
      "outputs": []
    },
    {
      "metadata": {
        "id": "gWdOb33TfESf",
        "colab_type": "code",
        "colab": {}
      },
      "cell_type": "code",
      "source": [
        "import numpy as np"
      ],
      "execution_count": 0,
      "outputs": []
    },
    {
      "metadata": {
        "id": "2oXETqLI5dn2",
        "colab_type": "code",
        "outputId": "2d32de6d-132a-4f7f-895d-9d0206ea69e5",
        "colab": {
          "base_uri": "https://localhost:8080/",
          "height": 35
        }
      },
      "cell_type": "code",
      "source": [
        "y_train[:10]"
      ],
      "execution_count": 0,
      "outputs": [
        {
          "output_type": "execute_result",
          "data": {
            "text/plain": [
              "array([5, 0, 4, 1, 9, 2, 1, 3, 1, 4], dtype=uint8)"
            ]
          },
          "metadata": {
            "tags": []
          },
          "execution_count": 11
        }
      ]
    },
    {
      "metadata": {
        "id": "r7SmxPMC5dhx",
        "colab_type": "code",
        "colab": {}
      },
      "cell_type": "code",
      "source": [
        ""
      ],
      "execution_count": 0,
      "outputs": []
    },
    {
      "metadata": {
        "id": "dE__H2YCfFd-",
        "colab_type": "code",
        "outputId": "59b7d3f4-3e46-4b60-deb9-12791b02d886",
        "colab": {
          "base_uri": "https://localhost:8080/",
          "height": 35
        }
      },
      "cell_type": "code",
      "source": [
        "np.shape(x_train),np.shape(x_test),np.shape(y_train)"
      ],
      "execution_count": 0,
      "outputs": [
        {
          "output_type": "execute_result",
          "data": {
            "text/plain": [
              "((60000, 28, 28), (10000, 28, 28), (60000,))"
            ]
          },
          "metadata": {
            "tags": []
          },
          "execution_count": 5
        }
      ]
    },
    {
      "metadata": {
        "id": "sDZpXb19fyep",
        "colab_type": "text"
      },
      "cell_type": "markdown",
      "source": [
        "making one hot vectors\n"
      ]
    },
    {
      "metadata": {
        "id": "e8CTgYFgxfYV",
        "colab_type": "code",
        "colab": {}
      },
      "cell_type": "code",
      "source": [
        "from keras.utils.np_utils import to_categorical\n",
        "y_train2 = to_categorical(y_train,num_classes=10)\n",
        "y_test2 = to_categorical(y_test,num_classes=10)"
      ],
      "execution_count": 0,
      "outputs": []
    },
    {
      "metadata": {
        "id": "3zhaByOu5t-G",
        "colab_type": "code",
        "outputId": "5c09aec7-91d0-4f96-cd62-dc337dbb3ddc",
        "colab": {
          "base_uri": "https://localhost:8080/",
          "height": 35
        }
      },
      "cell_type": "code",
      "source": [
        "y_train[0:9]"
      ],
      "execution_count": 0,
      "outputs": [
        {
          "output_type": "execute_result",
          "data": {
            "text/plain": [
              "array([5, 0, 4, 1, 9, 2, 1, 3, 1], dtype=uint8)"
            ]
          },
          "metadata": {
            "tags": []
          },
          "execution_count": 13
        }
      ]
    },
    {
      "metadata": {
        "id": "rrvpeL-35m5N",
        "colab_type": "code",
        "outputId": "df2d4c0e-cdcb-4fac-9716-4f2de6f746c5",
        "colab": {
          "base_uri": "https://localhost:8080/",
          "height": 173
        }
      },
      "cell_type": "code",
      "source": [
        "y_train2[0:9]"
      ],
      "execution_count": 0,
      "outputs": [
        {
          "output_type": "execute_result",
          "data": {
            "text/plain": [
              "array([[0., 0., 0., 0., 0., 1., 0., 0., 0., 0.],\n",
              "       [1., 0., 0., 0., 0., 0., 0., 0., 0., 0.],\n",
              "       [0., 0., 0., 0., 1., 0., 0., 0., 0., 0.],\n",
              "       [0., 1., 0., 0., 0., 0., 0., 0., 0., 0.],\n",
              "       [0., 0., 0., 0., 0., 0., 0., 0., 0., 1.],\n",
              "       [0., 0., 1., 0., 0., 0., 0., 0., 0., 0.],\n",
              "       [0., 1., 0., 0., 0., 0., 0., 0., 0., 0.],\n",
              "       [0., 0., 0., 1., 0., 0., 0., 0., 0., 0.],\n",
              "       [0., 1., 0., 0., 0., 0., 0., 0., 0., 0.]], dtype=float32)"
            ]
          },
          "metadata": {
            "tags": []
          },
          "execution_count": 14
        }
      ]
    },
    {
      "metadata": {
        "id": "jqhSGF_Hf22_",
        "colab_type": "text"
      },
      "cell_type": "markdown",
      "source": [
        "separating a part for validation\n"
      ]
    },
    {
      "metadata": {
        "id": "jPtURkWofbhe",
        "colab_type": "code",
        "colab": {}
      },
      "cell_type": "code",
      "source": [
        "x_valid=x_train[0:10000]/255.0\n",
        "y_valid=y_train2[0:10000]\n",
        "x_train_partial=x_train[10000:]/255.0\n",
        "y_train_partial=y_train2[10000:]\n"
      ],
      "execution_count": 0,
      "outputs": []
    },
    {
      "metadata": {
        "id": "agY8LTAx7sDM",
        "colab_type": "code",
        "outputId": "79714372-2503-475f-93db-4f158226d999",
        "colab": {
          "base_uri": "https://localhost:8080/",
          "height": 35
        }
      },
      "cell_type": "code",
      "source": [
        "np.shape(x_valid),np.shape(y_valid),np.shape(x_train_partial),np.shape(y_train_partial\n",
        "                                                                      )"
      ],
      "execution_count": 0,
      "outputs": [
        {
          "output_type": "execute_result",
          "data": {
            "text/plain": [
              "((10000, 28, 28), (10000, 10), (50000, 28, 28), (50000, 10))"
            ]
          },
          "metadata": {
            "tags": []
          },
          "execution_count": 30
        }
      ]
    },
    {
      "metadata": {
        "id": "dO-9esZrlwFe",
        "colab_type": "code",
        "colab": {}
      },
      "cell_type": "code",
      "source": [
        "from keras import models\n",
        "from keras import layers"
      ],
      "execution_count": 0,
      "outputs": []
    },
    {
      "metadata": {
        "id": "UlWOVmDewmwL",
        "colab_type": "code",
        "colab": {}
      },
      "cell_type": "code",
      "source": [
        "from keras import optimizers"
      ],
      "execution_count": 0,
      "outputs": []
    },
    {
      "metadata": {
        "id": "CZ14p93SxYi3",
        "colab_type": "code",
        "colab": {}
      },
      "cell_type": "code",
      "source": [
        ""
      ],
      "execution_count": 0,
      "outputs": []
    },
    {
      "metadata": {
        "id": "jJeVPoFEf-s2",
        "colab_type": "text"
      },
      "cell_type": "markdown",
      "source": [
        "creating the deep model\n"
      ]
    },
    {
      "metadata": {
        "id": "1dNvM8zQltDw",
        "colab_type": "code",
        "colab": {}
      },
      "cell_type": "code",
      "source": [
        "def create_model():\n",
        "    model=models.Sequential()\n",
        "    model.add(layers.Flatten())\n",
        "    model.add(layers.Dense(1000,activation='relu',input_shape=(28*28,)))\n",
        "    model.add(layers.Dense(500,activation='relu'))\n",
        "    #model.add(layers.Dense(250,activation='relu'))\n",
        "    model.add(layers.Dense(10,activation='softmax'))\n",
        "    rms=optimizers.RMSprop(lr=0.001)\n",
        "    model.compile(optimizer=rms,loss='categorical_crossentropy',metrics=['accuracy'])\n",
        "    return model"
      ],
      "execution_count": 0,
      "outputs": []
    },
    {
      "metadata": {
        "id": "u2SZ3Qc9pGBu",
        "colab_type": "code",
        "colab": {}
      },
      "cell_type": "code",
      "source": [
        "num_epochs=50"
      ],
      "execution_count": 0,
      "outputs": []
    },
    {
      "metadata": {
        "id": "23Wh_ONwgCVQ",
        "colab_type": "text"
      },
      "cell_type": "markdown",
      "source": [
        "starting training"
      ]
    },
    {
      "metadata": {
        "id": "idu0h58koyvg",
        "colab_type": "code",
        "outputId": "6536cce4-ca0a-4183-be9f-c75f579d41c6",
        "colab": {
          "base_uri": "https://localhost:8080/",
          "height": 1788
        }
      },
      "cell_type": "code",
      "source": [
        "model=create_model()\n",
        "history=model.fit(x_train_partial,y_train_partial,validation_data=(x_valid, y_valid),epochs=num_epochs,batch_size=128)"
      ],
      "execution_count": 0,
      "outputs": [
        {
          "output_type": "stream",
          "text": [
            "Train on 50000 samples, validate on 10000 samples\n",
            "Epoch 1/50\n",
            "50000/50000 [==============================] - 3s 64us/step - loss: 0.2297 - acc: 0.9290 - val_loss: 0.1339 - val_acc: 0.9588\n",
            "Epoch 2/50\n",
            "50000/50000 [==============================] - 3s 57us/step - loss: 0.0840 - acc: 0.9731 - val_loss: 0.0828 - val_acc: 0.9774\n",
            "Epoch 3/50\n",
            "50000/50000 [==============================] - 3s 57us/step - loss: 0.0546 - acc: 0.9829 - val_loss: 0.0972 - val_acc: 0.9708\n",
            "Epoch 4/50\n",
            "50000/50000 [==============================] - 3s 57us/step - loss: 0.0390 - acc: 0.9879 - val_loss: 0.1016 - val_acc: 0.9753\n",
            "Epoch 5/50\n",
            "50000/50000 [==============================] - 3s 57us/step - loss: 0.0299 - acc: 0.9914 - val_loss: 0.0948 - val_acc: 0.9782\n",
            "Epoch 6/50\n",
            "50000/50000 [==============================] - 3s 57us/step - loss: 0.0234 - acc: 0.9926 - val_loss: 0.1043 - val_acc: 0.9775\n",
            "Epoch 7/50\n",
            "50000/50000 [==============================] - 3s 57us/step - loss: 0.0192 - acc: 0.9942 - val_loss: 0.1128 - val_acc: 0.9799\n",
            "Epoch 8/50\n",
            "50000/50000 [==============================] - 3s 57us/step - loss: 0.0166 - acc: 0.9953 - val_loss: 0.0924 - val_acc: 0.9831\n",
            "Epoch 9/50\n",
            "50000/50000 [==============================] - 3s 57us/step - loss: 0.0154 - acc: 0.9956 - val_loss: 0.1094 - val_acc: 0.9807\n",
            "Epoch 10/50\n",
            "50000/50000 [==============================] - 3s 57us/step - loss: 0.0129 - acc: 0.9964 - val_loss: 0.1374 - val_acc: 0.9787\n",
            "Epoch 11/50\n",
            "50000/50000 [==============================] - 3s 57us/step - loss: 0.0129 - acc: 0.9965 - val_loss: 0.1424 - val_acc: 0.9790\n",
            "Epoch 12/50\n",
            "50000/50000 [==============================] - 3s 57us/step - loss: 0.0116 - acc: 0.9967 - val_loss: 0.1349 - val_acc: 0.9791\n",
            "Epoch 13/50\n",
            "50000/50000 [==============================] - 3s 57us/step - loss: 0.0094 - acc: 0.9974 - val_loss: 0.1399 - val_acc: 0.9793\n",
            "Epoch 14/50\n",
            "50000/50000 [==============================] - 3s 57us/step - loss: 0.0085 - acc: 0.9977 - val_loss: 0.1420 - val_acc: 0.9811\n",
            "Epoch 15/50\n",
            "50000/50000 [==============================] - 3s 58us/step - loss: 0.0102 - acc: 0.9974 - val_loss: 0.1410 - val_acc: 0.9812\n",
            "Epoch 16/50\n",
            "50000/50000 [==============================] - 3s 58us/step - loss: 0.0071 - acc: 0.9981 - val_loss: 0.1546 - val_acc: 0.9796\n",
            "Epoch 17/50\n",
            "50000/50000 [==============================] - 3s 58us/step - loss: 0.0080 - acc: 0.9979 - val_loss: 0.1535 - val_acc: 0.9802\n",
            "Epoch 18/50\n",
            "50000/50000 [==============================] - 3s 57us/step - loss: 0.0070 - acc: 0.9984 - val_loss: 0.1668 - val_acc: 0.9801\n",
            "Epoch 19/50\n",
            "50000/50000 [==============================] - 3s 57us/step - loss: 0.0085 - acc: 0.9980 - val_loss: 0.1366 - val_acc: 0.9833\n",
            "Epoch 20/50\n",
            "50000/50000 [==============================] - 3s 57us/step - loss: 0.0077 - acc: 0.9982 - val_loss: 0.1539 - val_acc: 0.9804\n",
            "Epoch 21/50\n",
            "50000/50000 [==============================] - 3s 57us/step - loss: 0.0089 - acc: 0.9984 - val_loss: 0.1420 - val_acc: 0.9836\n",
            "Epoch 22/50\n",
            "50000/50000 [==============================] - 3s 57us/step - loss: 0.0058 - acc: 0.9987 - val_loss: 0.1749 - val_acc: 0.9793\n",
            "Epoch 23/50\n",
            "50000/50000 [==============================] - 3s 57us/step - loss: 0.0056 - acc: 0.9989 - val_loss: 0.1361 - val_acc: 0.9836\n",
            "Epoch 24/50\n",
            "50000/50000 [==============================] - 3s 57us/step - loss: 0.0068 - acc: 0.9986 - val_loss: 0.1742 - val_acc: 0.9816\n",
            "Epoch 25/50\n",
            "50000/50000 [==============================] - 3s 57us/step - loss: 0.0072 - acc: 0.9985 - val_loss: 0.1622 - val_acc: 0.9810\n",
            "Epoch 26/50\n",
            "50000/50000 [==============================] - 3s 57us/step - loss: 0.0042 - acc: 0.9990 - val_loss: 0.1650 - val_acc: 0.9824\n",
            "Epoch 27/50\n",
            "50000/50000 [==============================] - 3s 57us/step - loss: 0.0062 - acc: 0.9988 - val_loss: 0.1850 - val_acc: 0.9799\n",
            "Epoch 28/50\n",
            "50000/50000 [==============================] - 3s 57us/step - loss: 0.0041 - acc: 0.9992 - val_loss: 0.1750 - val_acc: 0.9823\n",
            "Epoch 29/50\n",
            "50000/50000 [==============================] - 3s 57us/step - loss: 0.0041 - acc: 0.9993 - val_loss: 0.1696 - val_acc: 0.9822\n",
            "Epoch 30/50\n",
            "50000/50000 [==============================] - 3s 57us/step - loss: 0.0057 - acc: 0.9988 - val_loss: 0.1971 - val_acc: 0.9809\n",
            "Epoch 31/50\n",
            "50000/50000 [==============================] - 3s 57us/step - loss: 0.0059 - acc: 0.9987 - val_loss: 0.1830 - val_acc: 0.9800\n",
            "Epoch 32/50\n",
            "50000/50000 [==============================] - 3s 57us/step - loss: 0.0038 - acc: 0.9993 - val_loss: 0.1602 - val_acc: 0.9819\n",
            "Epoch 33/50\n",
            "50000/50000 [==============================] - 3s 56us/step - loss: 0.0047 - acc: 0.9992 - val_loss: 0.1960 - val_acc: 0.9806\n",
            "Epoch 34/50\n",
            "50000/50000 [==============================] - 3s 57us/step - loss: 0.0036 - acc: 0.9993 - val_loss: 0.1970 - val_acc: 0.9810\n",
            "Epoch 35/50\n",
            "50000/50000 [==============================] - 3s 57us/step - loss: 0.0040 - acc: 0.9993 - val_loss: 0.1951 - val_acc: 0.9803\n",
            "Epoch 36/50\n",
            "50000/50000 [==============================] - 3s 57us/step - loss: 0.0034 - acc: 0.9994 - val_loss: 0.1780 - val_acc: 0.9819\n",
            "Epoch 37/50\n",
            "50000/50000 [==============================] - 3s 57us/step - loss: 0.0045 - acc: 0.9992 - val_loss: 0.1944 - val_acc: 0.9811\n",
            "Epoch 38/50\n",
            "50000/50000 [==============================] - 3s 57us/step - loss: 0.0039 - acc: 0.9994 - val_loss: 0.1883 - val_acc: 0.9814\n",
            "Epoch 39/50\n",
            "50000/50000 [==============================] - 3s 57us/step - loss: 0.0050 - acc: 0.9992 - val_loss: 0.1728 - val_acc: 0.9827\n",
            "Epoch 40/50\n",
            "50000/50000 [==============================] - 3s 57us/step - loss: 0.0026 - acc: 0.9994 - val_loss: 0.2146 - val_acc: 0.9794\n",
            "Epoch 41/50\n",
            "50000/50000 [==============================] - 3s 57us/step - loss: 0.0033 - acc: 0.9992 - val_loss: 0.2344 - val_acc: 0.9790\n",
            "Epoch 42/50\n",
            "50000/50000 [==============================] - 3s 57us/step - loss: 0.0067 - acc: 0.9989 - val_loss: 0.1786 - val_acc: 0.9828\n",
            "Epoch 43/50\n",
            "50000/50000 [==============================] - 3s 57us/step - loss: 0.0035 - acc: 0.9994 - val_loss: 0.1875 - val_acc: 0.9817\n",
            "Epoch 44/50\n",
            "50000/50000 [==============================] - 3s 57us/step - loss: 0.0036 - acc: 0.9994 - val_loss: 0.1903 - val_acc: 0.9826\n",
            "Epoch 45/50\n",
            "50000/50000 [==============================] - 3s 57us/step - loss: 0.0031 - acc: 0.9995 - val_loss: 0.2084 - val_acc: 0.9808\n",
            "Epoch 46/50\n",
            "50000/50000 [==============================] - 3s 58us/step - loss: 0.0035 - acc: 0.9994 - val_loss: 0.2016 - val_acc: 0.9819\n",
            "Epoch 47/50\n",
            "50000/50000 [==============================] - 3s 57us/step - loss: 0.0053 - acc: 0.9993 - val_loss: 0.1891 - val_acc: 0.9827\n",
            "Epoch 48/50\n",
            "50000/50000 [==============================] - 3s 57us/step - loss: 0.0035 - acc: 0.9993 - val_loss: 0.1874 - val_acc: 0.9836\n",
            "Epoch 49/50\n",
            "50000/50000 [==============================] - 3s 57us/step - loss: 0.0035 - acc: 0.9993 - val_loss: 0.2133 - val_acc: 0.9804\n",
            "Epoch 50/50\n",
            "50000/50000 [==============================] - 3s 57us/step - loss: 0.0024 - acc: 0.9995 - val_loss: 0.1938 - val_acc: 0.9833\n"
          ],
          "name": "stdout"
        }
      ]
    },
    {
      "metadata": {
        "id": "aiq6HFlRpkew",
        "colab_type": "code",
        "outputId": "961196e9-cdd3-4590-e281-5cddc0e4c0db",
        "colab": {
          "base_uri": "https://localhost:8080/",
          "height": 277
        }
      },
      "cell_type": "code",
      "source": [
        "model.summary()"
      ],
      "execution_count": 0,
      "outputs": [
        {
          "output_type": "stream",
          "text": [
            "_________________________________________________________________\n",
            "Layer (type)                 Output Shape              Param #   \n",
            "=================================================================\n",
            "flatten_4 (Flatten)          (None, 784)               0         \n",
            "_________________________________________________________________\n",
            "dense_21 (Dense)             (None, 1000)              785000    \n",
            "_________________________________________________________________\n",
            "dense_22 (Dense)             (None, 500)               500500    \n",
            "_________________________________________________________________\n",
            "dense_23 (Dense)             (None, 10)                5010      \n",
            "=================================================================\n",
            "Total params: 1,290,510\n",
            "Trainable params: 1,290,510\n",
            "Non-trainable params: 0\n",
            "_________________________________________________________________\n"
          ],
          "name": "stdout"
        }
      ]
    },
    {
      "metadata": {
        "id": "RTQREin2p1PE",
        "colab_type": "code",
        "colab": {}
      },
      "cell_type": "code",
      "source": [
        "import matplotlib.pyplot as plt\n",
        "history_dict = history.history"
      ],
      "execution_count": 0,
      "outputs": []
    },
    {
      "metadata": {
        "id": "CqQ_csdC9bFH",
        "colab_type": "code",
        "outputId": "f9b8b6f9-40d6-4fc3-d0c5-a420626cf869",
        "colab": {
          "base_uri": "https://localhost:8080/",
          "height": 35
        }
      },
      "cell_type": "code",
      "source": [
        "history_dict.keys()"
      ],
      "execution_count": 0,
      "outputs": [
        {
          "output_type": "execute_result",
          "data": {
            "text/plain": [
              "dict_keys(['val_loss', 'val_acc', 'loss', 'acc'])"
            ]
          },
          "metadata": {
            "tags": []
          },
          "execution_count": 49
        }
      ]
    },
    {
      "metadata": {
        "id": "Mwpozvyr9dZF",
        "colab_type": "code",
        "outputId": "3376ce18-0b41-4628-fd98-301eb6b266ec",
        "colab": {
          "base_uri": "https://localhost:8080/",
          "height": 35
        }
      },
      "cell_type": "code",
      "source": [
        "len()"
      ],
      "execution_count": 0,
      "outputs": [
        {
          "output_type": "execute_result",
          "data": {
            "text/plain": [
              "10"
            ]
          },
          "metadata": {
            "tags": []
          },
          "execution_count": 50
        }
      ]
    },
    {
      "metadata": {
        "id": "7BHFxX5qgIGm",
        "colab_type": "text"
      },
      "cell_type": "markdown",
      "source": [
        "loss and accuracy graphs"
      ]
    },
    {
      "metadata": {
        "id": "wGItG5qR9nVo",
        "colab_type": "code",
        "outputId": "837281ec-3a9f-4db4-f735-6eea51f473c1",
        "colab": {
          "base_uri": "https://localhost:8080/",
          "height": 377
        }
      },
      "cell_type": "code",
      "source": [
        "epochs = range(1, len(history_dict['loss']) + 1)\n",
        "plt.plot(epochs, history_dict['loss'], 'r', label='training loss')\n",
        "plt.plot(epochs, history_dict['val_loss'], 'b', label='validation loss')\n",
        "plt.title('Training and validation loss')\n",
        "plt.xlabel('Epochs')\n",
        "plt.ylabel('Loss')\n",
        "plt.legend()\n",
        "plt.show()"
      ],
      "execution_count": 0,
      "outputs": [
        {
          "output_type": "display_data",
          "data": {
            "image/png": "[encoded data removed]",
            "text/plain": [
              "<Figure size 576x396 with 1 Axes>"
            ]
          },
          "metadata": {
            "tags": []
          }
        }
      ]
    },
    {
      "metadata": {
        "id": "pSkucJX198NQ",
        "colab_type": "code",
        "outputId": "8ccd2573-0205-47c7-cff0-da4ca16c717d",
        "colab": {
          "base_uri": "https://localhost:8080/",
          "height": 377
        }
      },
      "cell_type": "code",
      "source": [
        "plt.plot(epochs, history_dict['acc'], 'r', label='training accuracy')\n",
        "plt.plot(epochs, history_dict['val_acc'], 'b', label='validation accuracy')\n",
        "plt.title('Training and validation accuracy')\n",
        "plt.xlabel('Epochs')\n",
        "plt.ylabel('Loss')\n",
        "plt.legend()\n",
        "plt.show()"
      ],
      "execution_count": 0,
      "outputs": [
        {
          "output_type": "display_data",
          "data": {
            "image/png": "[encoded data removed]",
            "text/plain": [
              "<Figure size 576x396 with 1 Axes>"
            ]
          },
          "metadata": {
            "tags": []
          }
        }
      ]
    },
    {
      "metadata": {
        "id": "iuLLz6Tp-Y0u",
        "colab_type": "code",
        "colab": {}
      },
      "cell_type": "code",
      "source": [
        ""
      ],
      "execution_count": 0,
      "outputs": []
    }
  ]
}